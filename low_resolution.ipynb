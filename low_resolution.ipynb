{
 "cells": [
  {
   "cell_type": "code",
   "execution_count": 1,
   "id": "dd526408",
   "metadata": {},
   "outputs": [],
   "source": [
    "import os\n",
    "import numpy as np\n",
    "import matplotlib.pyplot as plt\n",
    "import cv2\n",
    "!aws s3 cp s3://lowresolutionhighresolution/dataset/ . --recursive\n",
    "!conda install python==3.7\n",
    "cv2.__version__\n",
    "!pip install --upgrade opencv-python==4.3.0.38"
   ]
  },
  {
   "cell_type": "code",
   "execution_count": 2,
   "id": "f3df378b",
   "metadata": {},
   "outputs": [
    {
     "name": "stderr",
     "output_type": "stream",
     "text": [
      "/home/ec2-user/anaconda3/envs/tensorflow_p27/lib/python2.7/site-packages/OpenSSL/crypto.py:12: CryptographyDeprecationWarning: Python 2 is no longer supported by the Python core team. Support for it is now deprecated in cryptography, and will be removed in the next release.\n",
      "  from cryptography import x509\n"
     ]
    },
    {
     "name": "stdout",
     "output_type": "stream",
     "text": [
      "WARNING:tensorflow:From /home/ec2-user/anaconda3/envs/tensorflow_p27/cpu/lib/python2.7/site-packages/tensorflow_core/__init__.py:1473: The name tf.estimator.inputs is deprecated. Please use tf.compat.v1.estimator.inputs instead.\n",
      "\n"
     ]
    }
   ],
   "source": [
    "from tensorflow.keras.layers import Input, Dense, Conv2D, MaxPooling2D, Dropout, Conv2DTranspose, UpSampling2D, add\n",
    "from tensorflow.keras.models import Model\n",
    "from tensorflow.keras import regularizers\n",
    "import tensorflow as tf"
   ]
  },
  {
   "cell_type": "code",
   "execution_count": 4,
   "id": "6cbe64a8",
   "metadata": {},
   "outputs": [],
   "source": [
    "from sagemaker import get_execution_role\n",
    "role = get_execution_role()"
   ]
  },
  {
   "cell_type": "code",
   "execution_count": 5,
   "id": "998cc448",
   "metadata": {},
   "outputs": [],
   "source": [
    "bucket = 'arn:aws:s3:::lowresolutionhighresolution'"
   ]
  },
  {
   "cell_type": "code",
   "execution_count": 9,
   "id": "332f8d87",
   "metadata": {},
   "outputs": [
    {
     "name": "stdout",
     "output_type": "stream",
     "text": [
      "Existing buckets:\n",
      "aws-emr-resources-128812368847-us-west-2\n",
      "aws-logs-128812368847-us-west-2\n",
      "elasticbeanstalk-us-west-2-128812368847\n",
      "lowresolutionhighresolution\n",
      "raphaelalabi.com\n"
     ]
    }
   ],
   "source": [
    "import boto3\n",
    "conn = boto3.client('s3')\n",
    "response = conn.list_buckets()\n",
    "\n",
    "# Output the bucket names\n",
    "print('Existing buckets:')\n",
    "for bucket in response['Buckets']:\n",
    "    print(bucket[\"Name\"])\n",
    "# contents = conn.list_objects(Bucket=bucket)['Contents']\n",
    "# conn.list_objects(Bucket='lowresolutionhighresolution')"
   ]
  },
  {
   "cell_type": "code",
   "execution_count": 25,
   "id": "1d9b489c",
   "metadata": {},
   "outputs": [],
   "source": [
    "def load_data(path):\n",
    "    high_res_images = []\n",
    "    low_res_images = []\n",
    "    for dirname, _, filenames in os.walk(path+'low_res'):\n",
    "        for filename in filenames:\n",
    "            img = cv2.imread(os.path.join(dirname, filename))\n",
    "            img = process_image(img)\n",
    "            low_res_images.append(img)\n",
    "        \n",
    "    for dirname, _, filenames in os.walk(path+'high_res'):\n",
    "        for filename in filenames:\n",
    "            img = cv2.imread(os.path.join(dirname, filename))\n",
    "            img = process_image(img)\n",
    "            high_res_images.append(img)\n",
    "    \n",
    "    return np.array(low_res_images), np.array(high_res_images)\n",
    "\n",
    "def process_image(image):\n",
    "    return image/255"
   ]
  },
  {
   "cell_type": "code",
   "execution_count": 30,
   "id": "8d9d64d9",
   "metadata": {},
   "outputs": [],
   "source": [
    "base_dir = ''\n",
    "train_x, train_y =  load_data(base_dir+'train/')\n",
    "val_x, val_y = load_data(base_dir+'val/')"
   ]
  },
  {
   "cell_type": "code",
   "execution_count": 31,
   "id": "83d7a491",
   "metadata": {},
   "outputs": [
    {
     "data": {
      "text/plain": [
       "(685, 256, 256, 3)"
      ]
     },
     "execution_count": 31,
     "metadata": {},
     "output_type": "execute_result"
    }
   ],
   "source": [
    "train_x.shape"
   ]
  },
  {
   "cell_type": "code",
   "execution_count": 37,
   "id": "00666043",
   "metadata": {},
   "outputs": [
    {
     "data": {
      "text/plain": [
       "array([[[0, 0, 0],\n",
       "        [0, 0, 0],\n",
       "        [0, 0, 0],\n",
       "        ...,\n",
       "        [1, 1, 1],\n",
       "        [1, 1, 1],\n",
       "        [1, 1, 1]],\n",
       "\n",
       "       [[0, 0, 0],\n",
       "        [0, 0, 0],\n",
       "        [0, 0, 0],\n",
       "        ...,\n",
       "        [1, 1, 1],\n",
       "        [1, 1, 1],\n",
       "        [1, 1, 1]],\n",
       "\n",
       "       [[0, 0, 0],\n",
       "        [0, 0, 0],\n",
       "        [0, 0, 0],\n",
       "        ...,\n",
       "        [1, 1, 1],\n",
       "        [1, 1, 1],\n",
       "        [1, 1, 1]],\n",
       "\n",
       "       ...,\n",
       "\n",
       "       [[0, 0, 0],\n",
       "        [0, 0, 0],\n",
       "        [0, 0, 0],\n",
       "        ...,\n",
       "        [0, 0, 0],\n",
       "        [0, 0, 0],\n",
       "        [0, 0, 0]],\n",
       "\n",
       "       [[0, 0, 0],\n",
       "        [0, 0, 0],\n",
       "        [0, 0, 0],\n",
       "        ...,\n",
       "        [0, 0, 0],\n",
       "        [0, 0, 0],\n",
       "        [0, 0, 0]],\n",
       "\n",
       "       [[0, 0, 0],\n",
       "        [0, 0, 0],\n",
       "        [0, 0, 0],\n",
       "        ...,\n",
       "        [0, 0, 0],\n",
       "        [0, 0, 0],\n",
       "        [0, 0, 0]]], dtype=uint8)"
      ]
     },
     "execution_count": 37,
     "metadata": {},
     "output_type": "execute_result"
    }
   ],
   "source": [
    "train_x[1]"
   ]
  },
  {
   "cell_type": "code",
   "execution_count": 34,
   "id": "df5ef65f",
   "metadata": {},
   "outputs": [
    {
     "data": {
      "text/plain": [
       "(170, 256, 256, 3)"
      ]
     },
     "execution_count": 34,
     "metadata": {},
     "output_type": "execute_result"
    }
   ],
   "source": [
    "val_x.shape"
   ]
  },
  {
   "cell_type": "code",
   "execution_count": 35,
   "id": "55af3728",
   "metadata": {},
   "outputs": [
    {
     "data": {
      "image/png": "[encoded data removed]",
      "text/plain": [
       "<Figure size 432x288 with 2 Axes>"
      ]
     },
     "metadata": {
      "needs_background": "light"
     },
     "output_type": "display_data"
    }
   ],
   "source": [
    "fig, (ax1, ax2) = plt.subplots(1, 2)\n",
    "fig.suptitle('Image Comparison')\n",
    "ax1.imshow(train_x[1])\n",
    "ax1.title.set_text(\"low-res image \")\n",
    "ax2.imshow(train_y[1])\n",
    "ax2.title.set_text(\"high-res image \")"
   ]
  },
  {
   "cell_type": "code",
   "execution_count": null,
   "id": "155e0d4a",
   "metadata": {},
   "outputs": [],
   "source": []
  }
 ],
 "metadata": {
  "kernelspec": {
   "display_name": "conda_tensorflow_p27",
   "language": "python",
   "name": "conda_tensorflow_p27"
  },
  "language_info": {
   "codemirror_mode": {
    "name": "ipython",
    "version": 2
   },
   "file_extension": ".py",
   "mimetype": "text/x-python",
   "name": "python",
   "nbconvert_exporter": "python",
   "pygments_lexer": "ipython2",
   "version": "2.7.16"
  }
 },
 "nbformat": 4,
 "nbformat_minor": 5
}
